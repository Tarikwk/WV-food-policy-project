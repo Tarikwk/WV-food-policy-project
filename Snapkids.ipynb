{
 "cells": [
  {
   "cell_type": "code",
   "execution_count": 1,
   "id": "49eb9d5c-6b6f-4987-9564-47284f6c414e",
   "metadata": {},
   "outputs": [],
   "source": [
    "from shapely.geometry import Point, mapping, LineString\n",
    "import geopandas as gpd\n",
    "import pandas as pd\n",
    "import folium\n",
    "from folium import PolyLine\n",
    "from folium.plugins import MarkerCluster, Fullscreen\n",
    "from folium.features import CustomIcon\n",
    "from branca.element import MacroElement\n",
    "from jinja2 import Template\n",
    "import matplotlib.cm as cm\n",
    "import matplotlib.colors as colors\n",
    "import numpy as np\n",
    "from folium.features import GeoJsonTooltip\n",
    "from folium.features import GeoJson\n",
    "from shapely import wkt\n",
    "import matplotlib.pyplot as plt"
   ]
  },
  {
   "cell_type": "code",
   "execution_count": 2,
   "id": "70072cc5-cb8c-4d8e-a1c2-e8b7953f0daf",
   "metadata": {},
   "outputs": [],
   "source": [
    "from pyproj import CRS"
   ]
  },
  {
   "cell_type": "code",
   "execution_count": 3,
   "id": "d17d118c-4ac4-4aec-9e3c-163538dd6eac",
   "metadata": {},
   "outputs": [],
   "source": [
    "snapkids2019_df = pd.read_csv('B22002_2019_SNAP_children_under_18.csv')"
   ]
  },
  {
   "cell_type": "code",
   "execution_count": 4,
   "id": "eaf90f93-d525-400c-996d-8ed15c04b0a7",
   "metadata": {},
   "outputs": [],
   "source": [
    "#want to drop column with the word 'Margin' \n",
    "columns_to_drop = [col for col in snapkids2019_df.columns if 'Margin' in str(col)]"
   ]
  },
  {
   "cell_type": "code",
   "execution_count": 5,
   "id": "bff28603-2b1b-490d-8145-3445ee451b87",
   "metadata": {},
   "outputs": [],
   "source": [
    "snapkids2019_df.drop(columns=columns_to_drop, inplace=True)"
   ]
  },
  {
   "cell_type": "code",
   "execution_count": 6,
   "id": "fa119c0b-a4bc-47ab-96b7-588769752e3a",
   "metadata": {},
   "outputs": [],
   "source": [
    "# delete '!!Estimate' from the column names\n",
    "snapkids2019_df.columns = snapkids2019_df.columns.str.replace('!!Estimate', '')"
   ]
  },
  {
   "cell_type": "code",
   "execution_count": 7,
   "id": "9f12cb56-cba4-4b1f-9f95-da90f600a2a7",
   "metadata": {},
   "outputs": [],
   "source": [
    "# delete ',west virginia' after county name\n",
    "snapkids2019_df.columns = snapkids2019_df.columns.str.replace(', West Virginia', '')"
   ]
  },
  {
   "cell_type": "code",
   "execution_count": 8,
   "id": "7672bea2-99d9-4f89-95a8-2e7f40149399",
   "metadata": {},
   "outputs": [],
   "source": [
    "#this was a big one. had to come back after 50 lines of code to fix it. realized late that there were two rows \n",
    "#with the same sub-discription \n",
    "snapkids2019_df.loc[2, \"Label (Grouping)\"] = \"SNAP children under 18\""
   ]
  },
  {
   "cell_type": "code",
   "execution_count": 9,
   "id": "35a7a05c-7334-467b-87b3-e2d8103c9007",
   "metadata": {},
   "outputs": [],
   "source": [
    "#want to make a dataset over 5 years so have to move headers to rows \n",
    "df_melted = snapkids2019_df.melt(id_vars=[snapkids2019_df.columns[0]], var_name='County', value_name = '2019')"
   ]
  },
  {
   "cell_type": "code",
   "execution_count": 10,
   "id": "5315736a-b341-4a67-bf76-23e976f22044",
   "metadata": {},
   "outputs": [],
   "source": [
    "snapkids2019_df = df_melted"
   ]
  },
  {
   "cell_type": "code",
   "execution_count": 11,
   "id": "0827d31e-399e-455a-b876-2ffe9c9fe1dd",
   "metadata": {},
   "outputs": [],
   "source": [
    "snapkids2020_df = pd.read_csv('B22002_2020_SNAP_children_under_18.csv')"
   ]
  },
  {
   "cell_type": "code",
   "execution_count": 12,
   "id": "656eea77-d829-4d64-b312-79489e8e9a90",
   "metadata": {},
   "outputs": [],
   "source": [
    "columns_to_drop = [col for col in snapkids2020_df.columns if 'Margin' in str(col)]"
   ]
  },
  {
   "cell_type": "code",
   "execution_count": 13,
   "id": "200fcbdd-b6f9-4f49-907c-93992e9ab5b3",
   "metadata": {},
   "outputs": [],
   "source": [
    "snapkids2020_df.drop(columns=columns_to_drop, inplace=True)"
   ]
  },
  {
   "cell_type": "code",
   "execution_count": 14,
   "id": "fbbafaef-4f15-497b-bf04-dfce9f6c715c",
   "metadata": {},
   "outputs": [],
   "source": [
    "snapkids2020_df.columns = snapkids2020_df.columns.str.replace('!!Estimate', '')"
   ]
  },
  {
   "cell_type": "code",
   "execution_count": 15,
   "id": "c42b1829-1e1d-40d0-8625-d2c048f767af",
   "metadata": {},
   "outputs": [],
   "source": [
    "snapkids2020_df.columns = snapkids2020_df.columns.str.replace(', West Virginia', '')"
   ]
  },
  {
   "cell_type": "code",
   "execution_count": 16,
   "id": "b80728f3-7966-41e7-82f2-2ab347a6942e",
   "metadata": {},
   "outputs": [],
   "source": [
    "snapkids2020_df.loc[2, \"Label (Grouping)\"] = \"SNAP children under 18\""
   ]
  },
  {
   "cell_type": "code",
   "execution_count": 17,
   "id": "a4d4d076-b771-470d-8747-9492be8b9e29",
   "metadata": {},
   "outputs": [],
   "source": [
    "snapkids2020_df = snapkids2020_df.melt(id_vars=[snapkids2020_df.columns[0]], var_name='County', value_name = '2020')"
   ]
  },
  {
   "cell_type": "code",
   "execution_count": 18,
   "id": "270e2674-f359-4938-90e9-61f4696f547c",
   "metadata": {},
   "outputs": [],
   "source": [
    "snapkids2021_df = pd.read_csv('B22002_2021_SNAP_children_under_18.csv')"
   ]
  },
  {
   "cell_type": "code",
   "execution_count": 19,
   "id": "4f74a13c-d41f-4bd0-b246-55527918ecdd",
   "metadata": {},
   "outputs": [],
   "source": [
    "columns_to_drop = [col for col in snapkids2021_df.columns if 'Margin' in str(col)]"
   ]
  },
  {
   "cell_type": "code",
   "execution_count": 20,
   "id": "2805cd0f-c438-4603-a98c-8a5aac2cc88f",
   "metadata": {},
   "outputs": [],
   "source": [
    "snapkids2021_df.drop(columns=columns_to_drop, inplace=True)"
   ]
  },
  {
   "cell_type": "code",
   "execution_count": 21,
   "id": "1ba171bf-9eec-4102-bf66-22b7d24ea760",
   "metadata": {},
   "outputs": [],
   "source": [
    "snapkids2021_df.columns = snapkids2021_df.columns.str.replace('!!Estimate', '')"
   ]
  },
  {
   "cell_type": "code",
   "execution_count": 22,
   "id": "4cb9a231-8f5d-447b-98ac-84495b24769f",
   "metadata": {},
   "outputs": [],
   "source": [
    "snapkids2021_df.columns = snapkids2021_df.columns.str.replace(', West Virginia', '')"
   ]
  },
  {
   "cell_type": "code",
   "execution_count": 23,
   "id": "1cb8c4c7-29ec-471c-8ef8-d193bc8615d8",
   "metadata": {},
   "outputs": [],
   "source": [
    "snapkids2021_df.loc[2, \"Label (Grouping)\"] = \"SNAP children under 18\""
   ]
  },
  {
   "cell_type": "code",
   "execution_count": 24,
   "id": "4404ae3f-4d65-400e-b4fb-c97cf5e7e55d",
   "metadata": {},
   "outputs": [],
   "source": [
    "snapkids2021_df = snapkids2021_df.melt(id_vars=[snapkids2021_df.columns[0]], var_name='County', value_name = '2021')"
   ]
  },
  {
   "cell_type": "code",
   "execution_count": 25,
   "id": "5315e93c-262f-4712-b022-2bdae91380a1",
   "metadata": {},
   "outputs": [],
   "source": [
    "snapkids2022_df = pd.read_csv('B22002_2022_SNAP_children_under_18.csv')"
   ]
  },
  {
   "cell_type": "code",
   "execution_count": 26,
   "id": "f4f78679-7465-43bd-9896-0e76b2149e07",
   "metadata": {},
   "outputs": [],
   "source": [
    "columns_to_drop = [col for col in snapkids2022_df.columns if 'Margin' in str(col)]"
   ]
  },
  {
   "cell_type": "code",
   "execution_count": 27,
   "id": "da448f52-76e4-4a52-ac25-67638ca1942e",
   "metadata": {},
   "outputs": [],
   "source": [
    "snapkids2022_df.drop(columns=columns_to_drop, inplace=True)"
   ]
  },
  {
   "cell_type": "code",
   "execution_count": 28,
   "id": "9efdfc23-5232-4ec4-8e8e-4cc2c3988b36",
   "metadata": {},
   "outputs": [],
   "source": [
    "snapkids2022_df.columns = snapkids2022_df.columns.str.replace('!!Estimate', '')"
   ]
  },
  {
   "cell_type": "code",
   "execution_count": 29,
   "id": "2bda74a2-3f7f-4b58-90ca-bed7f8ba5123",
   "metadata": {},
   "outputs": [],
   "source": [
    "snapkids2022_df.columns = snapkids2022_df.columns.str.replace(', West Virginia', '')"
   ]
  },
  {
   "cell_type": "code",
   "execution_count": 30,
   "id": "22257219-a7e1-4d5c-a074-29abe1600f06",
   "metadata": {},
   "outputs": [],
   "source": [
    "snapkids2022_df.loc[2, \"Label (Grouping)\"] = \"SNAP children under 18\""
   ]
  },
  {
   "cell_type": "code",
   "execution_count": 31,
   "id": "9a9fccb9-6391-4aa5-98f3-13c77bb1ba91",
   "metadata": {},
   "outputs": [],
   "source": [
    "snapkids2022_df = snapkids2022_df.melt(id_vars=[snapkids2022_df.columns[0]], var_name='County', value_name = '2022')"
   ]
  },
  {
   "cell_type": "code",
   "execution_count": 32,
   "id": "6309fbb6-5f2d-4dd5-993d-90f2d4e63b63",
   "metadata": {},
   "outputs": [],
   "source": [
    "snapkids2023_df = pd.read_csv('B22002_2023_SNAP_children_under_18.csv')"
   ]
  },
  {
   "cell_type": "code",
   "execution_count": 33,
   "id": "c9721b02-f0f1-4072-b012-80c100248490",
   "metadata": {},
   "outputs": [],
   "source": [
    "columns_to_drop = [col for col in snapkids2023_df.columns if 'Margin' in str(col)]"
   ]
  },
  {
   "cell_type": "code",
   "execution_count": 34,
   "id": "15271344-6c43-4847-929e-42a6a51653cd",
   "metadata": {},
   "outputs": [],
   "source": [
    "snapkids2023_df.drop(columns=columns_to_drop, inplace=True)"
   ]
  },
  {
   "cell_type": "code",
   "execution_count": 35,
   "id": "e133aae2-7e25-48ff-9630-17ad0844b75a",
   "metadata": {},
   "outputs": [],
   "source": [
    "snapkids2023_df.columns = snapkids2023_df.columns.str.replace('!!Estimate', '')"
   ]
  },
  {
   "cell_type": "code",
   "execution_count": 36,
   "id": "91b3b197-8788-4140-a7de-bac3de2b5748",
   "metadata": {},
   "outputs": [],
   "source": [
    "snapkids2023_df.columns = snapkids2023_df.columns.str.replace(', West Virginia', '')"
   ]
  },
  {
   "cell_type": "code",
   "execution_count": 37,
   "id": "9921c6c8-ea14-4983-b330-e36cd282d2e9",
   "metadata": {},
   "outputs": [],
   "source": [
    "snapkids2023_df.loc[2, \"Label (Grouping)\"] = \"SNAP children under 18\""
   ]
  },
  {
   "cell_type": "code",
   "execution_count": 38,
   "id": "a3cd79ed-7898-4969-9e79-7af901c73cce",
   "metadata": {},
   "outputs": [],
   "source": [
    "snapkids2023_df = snapkids2023_df.melt(id_vars=[snapkids2023_df.columns[0]], var_name='County', value_name = '2023')"
   ]
  },
  {
   "cell_type": "code",
   "execution_count": 39,
   "id": "ef40107f-0056-4aaa-8bec-842b8cd4d86e",
   "metadata": {},
   "outputs": [],
   "source": [
    "#followed the process above for all my data to get into a their own years respectively \n",
    "#then merged below\n",
    "dfs = [snapkids2019_df, snapkids2020_df, snapkids2021_df, snapkids2022_df, snapkids2023_df]"
   ]
  },
  {
   "cell_type": "code",
   "execution_count": 40,
   "id": "69144709-957b-4166-b20a-944c122e87de",
   "metadata": {},
   "outputs": [],
   "source": [
    "merged_df = dfs[0]"
   ]
  },
  {
   "cell_type": "code",
   "execution_count": 41,
   "id": "7e665583-07cc-4cd0-ae1c-5453b891d146",
   "metadata": {},
   "outputs": [],
   "source": [
    "for i, df in enumerate(dfs):\n",
    "    dfs[i] = df.set_index(['Label (Grouping)', 'County'])"
   ]
  },
  {
   "cell_type": "code",
   "execution_count": 42,
   "id": "4fae49ee-7e10-4fdf-8e8d-2375d961adc5",
   "metadata": {},
   "outputs": [],
   "source": [
    "merged_df = pd.concat(dfs, axis=1)"
   ]
  },
  {
   "cell_type": "code",
   "execution_count": 43,
   "id": "ce55d5c8-42ea-4a95-89ca-58df19d98d92",
   "metadata": {},
   "outputs": [],
   "source": [
    "merged_df = merged_df.reset_index()"
   ]
  },
  {
   "cell_type": "code",
   "execution_count": 44,
   "id": "3371abe7-61cd-415e-9b17-f8d6cb55d5b3",
   "metadata": {},
   "outputs": [],
   "source": [
    "snapkids_df = merged_df"
   ]
  },
  {
   "cell_type": "code",
   "execution_count": 45,
   "id": "80b52f78-6764-4844-a7e8-3767f18cd24f",
   "metadata": {},
   "outputs": [
    {
     "data": {
      "text/html": [
       "<div>\n",
       "<style scoped>\n",
       "    .dataframe tbody tr th:only-of-type {\n",
       "        vertical-align: middle;\n",
       "    }\n",
       "\n",
       "    .dataframe tbody tr th {\n",
       "        vertical-align: top;\n",
       "    }\n",
       "\n",
       "    .dataframe thead th {\n",
       "        text-align: right;\n",
       "    }\n",
       "</style>\n",
       "<table border=\"1\" class=\"dataframe\">\n",
       "  <thead>\n",
       "    <tr style=\"text-align: right;\">\n",
       "      <th></th>\n",
       "      <th>Label (Grouping)</th>\n",
       "      <th>County</th>\n",
       "      <th>2019</th>\n",
       "      <th>2020</th>\n",
       "      <th>2021</th>\n",
       "      <th>2022</th>\n",
       "      <th>2023</th>\n",
       "    </tr>\n",
       "  </thead>\n",
       "  <tbody>\n",
       "    <tr>\n",
       "      <th>0</th>\n",
       "      <td>Total:</td>\n",
       "      <td>West Virginia</td>\n",
       "      <td>732,585</td>\n",
       "      <td>734,235</td>\n",
       "      <td>711,352</td>\n",
       "      <td>716,040</td>\n",
       "      <td>721,448</td>\n",
       "    </tr>\n",
       "    <tr>\n",
       "      <th>1</th>\n",
       "      <td>Household received Food Stamps/SNAP in the...</td>\n",
       "      <td>West Virginia</td>\n",
       "      <td>123,277</td>\n",
       "      <td>121,292</td>\n",
       "      <td>116,700</td>\n",
       "      <td>119,104</td>\n",
       "      <td>123,756</td>\n",
       "    </tr>\n",
       "    <tr>\n",
       "      <th>2</th>\n",
       "      <td>SNAP children under 18</td>\n",
       "      <td>West Virginia</td>\n",
       "      <td>54,661</td>\n",
       "      <td>53,390</td>\n",
       "      <td>50,043</td>\n",
       "      <td>50,652</td>\n",
       "      <td>52,595</td>\n",
       "    </tr>\n",
       "    <tr>\n",
       "      <th>3</th>\n",
       "      <td>Married-couple family</td>\n",
       "      <td>West Virginia</td>\n",
       "      <td>20,399</td>\n",
       "      <td>20,175</td>\n",
       "      <td>19,193</td>\n",
       "      <td>19,772</td>\n",
       "      <td>20,830</td>\n",
       "    </tr>\n",
       "    <tr>\n",
       "      <th>4</th>\n",
       "      <td>Other family:</td>\n",
       "      <td>West Virginia</td>\n",
       "      <td>33,251</td>\n",
       "      <td>32,161</td>\n",
       "      <td>29,975</td>\n",
       "      <td>29,979</td>\n",
       "      <td>31,062</td>\n",
       "    </tr>\n",
       "  </tbody>\n",
       "</table>\n",
       "</div>"
      ],
      "text/plain": [
       "                                    Label (Grouping)         County     2019  \\\n",
       "0                                             Total:  West Virginia  732,585   \n",
       "1      Household received Food Stamps/SNAP in the...  West Virginia  123,277   \n",
       "2                             SNAP children under 18  West Virginia   54,661   \n",
       "3                              Married-couple family  West Virginia   20,399   \n",
       "4                                      Other family:  West Virginia   33,251   \n",
       "\n",
       "      2020     2021     2022     2023  \n",
       "0  734,235  711,352  716,040  721,448  \n",
       "1  121,292  116,700  119,104  123,756  \n",
       "2   53,390   50,043   50,652   52,595  \n",
       "3   20,175   19,193   19,772   20,830  \n",
       "4   32,161   29,975   29,979   31,062  "
      ]
     },
     "execution_count": 45,
     "metadata": {},
     "output_type": "execute_result"
    }
   ],
   "source": [
    "snapkids_df.head()"
   ]
  },
  {
   "cell_type": "code",
   "execution_count": 46,
   "id": "217fbc24-70e0-4fa3-8f11-723a03995e4a",
   "metadata": {},
   "outputs": [
    {
     "name": "stdout",
     "output_type": "stream",
     "text": [
      "['Total:'\n",
      " '\\xa0\\xa0\\xa0\\xa0Household received Food Stamps/SNAP in the past 12 months:'\n",
      " 'SNAP children under 18'\n",
      " '\\xa0\\xa0\\xa0\\xa0\\xa0\\xa0\\xa0\\xa0\\xa0\\xa0\\xa0\\xa0Married-couple family'\n",
      " '\\xa0\\xa0\\xa0\\xa0\\xa0\\xa0\\xa0\\xa0\\xa0\\xa0\\xa0\\xa0Other family:'\n",
      " '\\xa0\\xa0\\xa0\\xa0\\xa0\\xa0\\xa0\\xa0\\xa0\\xa0\\xa0\\xa0\\xa0\\xa0\\xa0\\xa0Male householder, no spouse present'\n",
      " '\\xa0\\xa0\\xa0\\xa0\\xa0\\xa0\\xa0\\xa0\\xa0\\xa0\\xa0\\xa0\\xa0\\xa0\\xa0\\xa0Female householder, no spouse present'\n",
      " '\\xa0\\xa0\\xa0\\xa0\\xa0\\xa0\\xa0\\xa0\\xa0\\xa0\\xa0\\xa0Nonfamily households'\n",
      " '\\xa0\\xa0\\xa0\\xa0\\xa0\\xa0\\xa0\\xa0No children under 18 years:'\n",
      " '\\xa0\\xa0\\xa0\\xa0Household did not receive Food Stamps/SNAP in the past 12 months:'\n",
      " '\\xa0\\xa0\\xa0\\xa0\\xa0\\xa0\\xa0\\xa0With children under 18 years:']\n"
     ]
    }
   ],
   "source": [
    "#cleaning the label(grouping) column\n",
    "print(snapkids_df['Label (Grouping)'].unique())"
   ]
  },
  {
   "cell_type": "code",
   "execution_count": 47,
   "id": "24767734-4aa5-4df8-882e-9be775d1eed7",
   "metadata": {},
   "outputs": [
    {
     "name": "stdout",
     "output_type": "stream",
     "text": [
      "<class 'pandas.core.frame.DataFrame'>\n",
      "RangeIndex: 1512 entries, 0 to 1511\n",
      "Data columns (total 7 columns):\n",
      " #   Column            Non-Null Count  Dtype \n",
      "---  ------            --------------  ----- \n",
      " 0   Label (Grouping)  1512 non-null   object\n",
      " 1   County            1512 non-null   object\n",
      " 2   2019              1512 non-null   object\n",
      " 3   2020              1512 non-null   object\n",
      " 4   2021              1512 non-null   object\n",
      " 5   2022              1512 non-null   object\n",
      " 6   2023              1512 non-null   object\n",
      "dtypes: object(7)\n",
      "memory usage: 82.8+ KB\n"
     ]
    }
   ],
   "source": [
    "snapkids_df.info()"
   ]
  },
  {
   "cell_type": "code",
   "execution_count": 48,
   "id": "2f2653f2-3b07-4d12-a36b-a5acf1a72a98",
   "metadata": {},
   "outputs": [],
   "source": [
    "#cleaned only columns with object (string) types\n",
    "str_cols = snapkids_df.select_dtypes(include='object').columns"
   ]
  },
  {
   "cell_type": "code",
   "execution_count": 49,
   "id": "b3700280-5a01-4ffc-b08b-4d0d7909a8a3",
   "metadata": {},
   "outputs": [],
   "source": [
    "#cleaned and normalized whitespace in each string column \n",
    "for col in str_cols:\n",
    "    snapkids_df[col] = snapkids_df[col].astype(str).apply(lambda x: ' '.join(x.split()))"
   ]
  },
  {
   "cell_type": "code",
   "execution_count": 50,
   "id": "464a4943-47b7-4d0c-9978-22e96787011f",
   "metadata": {},
   "outputs": [],
   "source": [
    "#cleaned column whitespaces\n",
    "snapkids_df.columns = snapkids_df.columns.str.strip()"
   ]
  },
  {
   "cell_type": "code",
   "execution_count": 51,
   "id": "13ac6209-9436-409c-84b2-2c963799f6fd",
   "metadata": {},
   "outputs": [
    {
     "name": "stdout",
     "output_type": "stream",
     "text": [
      "['Total:' 'Household received Food Stamps/SNAP in the past 12 months:'\n",
      " 'SNAP children under 18' 'Married-couple family' 'Other family:'\n",
      " 'Male householder, no spouse present'\n",
      " 'Female householder, no spouse present' 'Nonfamily households'\n",
      " 'No children under 18 years:'\n",
      " 'Household did not receive Food Stamps/SNAP in the past 12 months:'\n",
      " 'With children under 18 years:']\n"
     ]
    }
   ],
   "source": [
    "#checked data\n",
    "print(snapkids_df['Label (Grouping)'].unique())"
   ]
  },
  {
   "cell_type": "code",
   "execution_count": 52,
   "id": "9716c5ab-8275-428e-8d5f-f2d95e3bea4e",
   "metadata": {},
   "outputs": [],
   "source": [
    "#want to make a visualization of my data and realized that i need to clean up my comma's and convert obj to int\n",
    "for col in ['2019', '2020', '2021', '2022', '2023']:\n",
    "    snapkids_df[col] = snapkids_df[col].replace({',': ''}, regex=True).astype(int)"
   ]
  },
  {
   "cell_type": "code",
   "execution_count": 53,
   "id": "4150bbe7-030e-4494-b1d7-fcd6b7ad27b4",
   "metadata": {},
   "outputs": [
    {
     "name": "stdout",
     "output_type": "stream",
     "text": [
      "<class 'pandas.core.frame.DataFrame'>\n",
      "RangeIndex: 1512 entries, 0 to 1511\n",
      "Data columns (total 7 columns):\n",
      " #   Column            Non-Null Count  Dtype \n",
      "---  ------            --------------  ----- \n",
      " 0   Label (Grouping)  1512 non-null   object\n",
      " 1   County            1512 non-null   object\n",
      " 2   2019              1512 non-null   int32 \n",
      " 3   2020              1512 non-null   int32 \n",
      " 4   2021              1512 non-null   int32 \n",
      " 5   2022              1512 non-null   int32 \n",
      " 6   2023              1512 non-null   int32 \n",
      "dtypes: int32(5), object(2)\n",
      "memory usage: 53.3+ KB\n"
     ]
    }
   ],
   "source": [
    "snapkids_df.info()"
   ]
  },
  {
   "cell_type": "code",
   "execution_count": 54,
   "id": "32b43399-1796-40f6-a990-ec4aadbb8ce6",
   "metadata": {},
   "outputs": [
    {
     "data": {
      "text/html": [
       "<div>\n",
       "<style scoped>\n",
       "    .dataframe tbody tr th:only-of-type {\n",
       "        vertical-align: middle;\n",
       "    }\n",
       "\n",
       "    .dataframe tbody tr th {\n",
       "        vertical-align: top;\n",
       "    }\n",
       "\n",
       "    .dataframe thead th {\n",
       "        text-align: right;\n",
       "    }\n",
       "</style>\n",
       "<table border=\"1\" class=\"dataframe\">\n",
       "  <thead>\n",
       "    <tr style=\"text-align: right;\">\n",
       "      <th></th>\n",
       "      <th>Label (Grouping)</th>\n",
       "      <th>County</th>\n",
       "      <th>2019</th>\n",
       "      <th>2020</th>\n",
       "      <th>2021</th>\n",
       "      <th>2022</th>\n",
       "      <th>2023</th>\n",
       "    </tr>\n",
       "  </thead>\n",
       "  <tbody>\n",
       "    <tr>\n",
       "      <th>2</th>\n",
       "      <td>SNAP children under 18</td>\n",
       "      <td>West Virginia</td>\n",
       "      <td>54661</td>\n",
       "      <td>53390</td>\n",
       "      <td>50043</td>\n",
       "      <td>50652</td>\n",
       "      <td>52595</td>\n",
       "    </tr>\n",
       "  </tbody>\n",
       "</table>\n",
       "</div>"
      ],
      "text/plain": [
       "         Label (Grouping)         County   2019   2020   2021   2022   2023\n",
       "2  SNAP children under 18  West Virginia  54661  53390  50043  50652  52595"
      ]
     },
     "execution_count": 54,
     "metadata": {},
     "output_type": "execute_result"
    }
   ],
   "source": [
    "#filtered for data on kids under 18 and realized i have two rows \n",
    "#first row is kids under 18 from  Household that received Food Stamps/SNAP in the past 12 months:\n",
    "row = snapkids_df[\n",
    "    snapkids_df['Label (Grouping)'].str.contains(\"SNAP children under 18\", case=False, na=False) &\n",
    "    (snapkids_df['County'] == 'West Virginia')\n",
    "]\n",
    "row"
   ]
  },
  {
   "cell_type": "code",
   "execution_count": 55,
   "id": "145f4371-4dd1-4eef-90e4-9bb268379ca7",
   "metadata": {},
   "outputs": [],
   "source": [
    "years = ['2019', '2020', '2021', '2022', '2023']\n",
    "values = row[years].values.flatten().astype(int)"
   ]
  },
  {
   "cell_type": "code",
   "execution_count": 56,
   "id": "b5e20a28-3b38-4bde-9dbf-010ddfb050cb",
   "metadata": {},
   "outputs": [
    {
     "data": {
      "image/png": "[encoded data removed]",
      "text/plain": [
       "<Figure size 800x500 with 1 Axes>"
      ]
     },
     "metadata": {},
     "output_type": "display_data"
    }
   ],
   "source": [
    "plt.figure(figsize=(8, 5))\n",
    "plt.plot(years, values, marker='o', color='darkblue')\n",
    "plt.title(\"SNAP Children Under 18 in WV (2019–2023)\")\n",
    "plt.xlabel(\"Year\")\n",
    "plt.ylabel(\"Number of Children\")\n",
    "plt.grid(True)"
   ]
  },
  {
   "cell_type": "code",
   "execution_count": 57,
   "id": "0ef1cacc-3a70-4d37-985c-955e528121fe",
   "metadata": {},
   "outputs": [
    {
     "data": {
      "text/html": [
       "<div>\n",
       "<style scoped>\n",
       "    .dataframe tbody tr th:only-of-type {\n",
       "        vertical-align: middle;\n",
       "    }\n",
       "\n",
       "    .dataframe tbody tr th {\n",
       "        vertical-align: top;\n",
       "    }\n",
       "\n",
       "    .dataframe thead th {\n",
       "        text-align: right;\n",
       "    }\n",
       "</style>\n",
       "<table border=\"1\" class=\"dataframe\">\n",
       "  <thead>\n",
       "    <tr style=\"text-align: right;\">\n",
       "      <th></th>\n",
       "      <th>Label (Grouping)</th>\n",
       "      <th>County</th>\n",
       "      <th>2019</th>\n",
       "      <th>2020</th>\n",
       "      <th>2021</th>\n",
       "      <th>2022</th>\n",
       "      <th>2023</th>\n",
       "    </tr>\n",
       "  </thead>\n",
       "  <tbody>\n",
       "    <tr>\n",
       "      <th>0</th>\n",
       "      <td>Total:</td>\n",
       "      <td>West Virginia</td>\n",
       "      <td>732585</td>\n",
       "      <td>734235</td>\n",
       "      <td>711352</td>\n",
       "      <td>716040</td>\n",
       "      <td>721448</td>\n",
       "    </tr>\n",
       "    <tr>\n",
       "      <th>1</th>\n",
       "      <td>Household received Food Stamps/SNAP in the pas...</td>\n",
       "      <td>West Virginia</td>\n",
       "      <td>123277</td>\n",
       "      <td>121292</td>\n",
       "      <td>116700</td>\n",
       "      <td>119104</td>\n",
       "      <td>123756</td>\n",
       "    </tr>\n",
       "    <tr>\n",
       "      <th>2</th>\n",
       "      <td>SNAP children under 18</td>\n",
       "      <td>West Virginia</td>\n",
       "      <td>54661</td>\n",
       "      <td>53390</td>\n",
       "      <td>50043</td>\n",
       "      <td>50652</td>\n",
       "      <td>52595</td>\n",
       "    </tr>\n",
       "    <tr>\n",
       "      <th>3</th>\n",
       "      <td>Married-couple family</td>\n",
       "      <td>West Virginia</td>\n",
       "      <td>20399</td>\n",
       "      <td>20175</td>\n",
       "      <td>19193</td>\n",
       "      <td>19772</td>\n",
       "      <td>20830</td>\n",
       "    </tr>\n",
       "    <tr>\n",
       "      <th>4</th>\n",
       "      <td>Other family:</td>\n",
       "      <td>West Virginia</td>\n",
       "      <td>33251</td>\n",
       "      <td>32161</td>\n",
       "      <td>29975</td>\n",
       "      <td>29979</td>\n",
       "      <td>31062</td>\n",
       "    </tr>\n",
       "    <tr>\n",
       "      <th>5</th>\n",
       "      <td>Male householder, no spouse present</td>\n",
       "      <td>West Virginia</td>\n",
       "      <td>7170</td>\n",
       "      <td>6955</td>\n",
       "      <td>6035</td>\n",
       "      <td>5980</td>\n",
       "      <td>6624</td>\n",
       "    </tr>\n",
       "    <tr>\n",
       "      <th>6</th>\n",
       "      <td>Female householder, no spouse present</td>\n",
       "      <td>West Virginia</td>\n",
       "      <td>26081</td>\n",
       "      <td>25206</td>\n",
       "      <td>23940</td>\n",
       "      <td>23999</td>\n",
       "      <td>24438</td>\n",
       "    </tr>\n",
       "    <tr>\n",
       "      <th>7</th>\n",
       "      <td>Nonfamily households</td>\n",
       "      <td>West Virginia</td>\n",
       "      <td>1011</td>\n",
       "      <td>1054</td>\n",
       "      <td>875</td>\n",
       "      <td>901</td>\n",
       "      <td>703</td>\n",
       "    </tr>\n",
       "    <tr>\n",
       "      <th>8</th>\n",
       "      <td>No children under 18 years:</td>\n",
       "      <td>West Virginia</td>\n",
       "      <td>68616</td>\n",
       "      <td>67902</td>\n",
       "      <td>66657</td>\n",
       "      <td>68452</td>\n",
       "      <td>71161</td>\n",
       "    </tr>\n",
       "    <tr>\n",
       "      <th>9</th>\n",
       "      <td>Married-couple family</td>\n",
       "      <td>West Virginia</td>\n",
       "      <td>13532</td>\n",
       "      <td>12849</td>\n",
       "      <td>12020</td>\n",
       "      <td>12114</td>\n",
       "      <td>12704</td>\n",
       "    </tr>\n",
       "    <tr>\n",
       "      <th>10</th>\n",
       "      <td>Other family:</td>\n",
       "      <td>West Virginia</td>\n",
       "      <td>12055</td>\n",
       "      <td>11787</td>\n",
       "      <td>11421</td>\n",
       "      <td>12023</td>\n",
       "      <td>12368</td>\n",
       "    </tr>\n",
       "    <tr>\n",
       "      <th>11</th>\n",
       "      <td>Male householder, no spouse present</td>\n",
       "      <td>West Virginia</td>\n",
       "      <td>3447</td>\n",
       "      <td>3479</td>\n",
       "      <td>3301</td>\n",
       "      <td>3493</td>\n",
       "      <td>3960</td>\n",
       "    </tr>\n",
       "    <tr>\n",
       "      <th>12</th>\n",
       "      <td>Female householder, no spouse present</td>\n",
       "      <td>West Virginia</td>\n",
       "      <td>8608</td>\n",
       "      <td>8308</td>\n",
       "      <td>8120</td>\n",
       "      <td>8530</td>\n",
       "      <td>8408</td>\n",
       "    </tr>\n",
       "    <tr>\n",
       "      <th>13</th>\n",
       "      <td>Nonfamily households</td>\n",
       "      <td>West Virginia</td>\n",
       "      <td>43029</td>\n",
       "      <td>43266</td>\n",
       "      <td>43216</td>\n",
       "      <td>44315</td>\n",
       "      <td>46089</td>\n",
       "    </tr>\n",
       "    <tr>\n",
       "      <th>14</th>\n",
       "      <td>Household did not receive Food Stamps/SNAP in ...</td>\n",
       "      <td>West Virginia</td>\n",
       "      <td>609308</td>\n",
       "      <td>612943</td>\n",
       "      <td>594652</td>\n",
       "      <td>596936</td>\n",
       "      <td>597692</td>\n",
       "    </tr>\n",
       "    <tr>\n",
       "      <th>15</th>\n",
       "      <td>With children under 18 years:</td>\n",
       "      <td>West Virginia</td>\n",
       "      <td>146741</td>\n",
       "      <td>145594</td>\n",
       "      <td>137763</td>\n",
       "      <td>135802</td>\n",
       "      <td>137011</td>\n",
       "    </tr>\n",
       "    <tr>\n",
       "      <th>16</th>\n",
       "      <td>Married-couple family</td>\n",
       "      <td>West Virginia</td>\n",
       "      <td>107599</td>\n",
       "      <td>107619</td>\n",
       "      <td>102490</td>\n",
       "      <td>100340</td>\n",
       "      <td>100591</td>\n",
       "    </tr>\n",
       "    <tr>\n",
       "      <th>17</th>\n",
       "      <td>Other family:</td>\n",
       "      <td>West Virginia</td>\n",
       "      <td>37426</td>\n",
       "      <td>36485</td>\n",
       "      <td>34083</td>\n",
       "      <td>34441</td>\n",
       "      <td>35353</td>\n",
       "    </tr>\n",
       "    <tr>\n",
       "      <th>18</th>\n",
       "      <td>Male householder, no spouse present</td>\n",
       "      <td>West Virginia</td>\n",
       "      <td>13290</td>\n",
       "      <td>12853</td>\n",
       "      <td>12242</td>\n",
       "      <td>12250</td>\n",
       "      <td>12640</td>\n",
       "    </tr>\n",
       "    <tr>\n",
       "      <th>19</th>\n",
       "      <td>Female householder, no spouse present</td>\n",
       "      <td>West Virginia</td>\n",
       "      <td>24136</td>\n",
       "      <td>23632</td>\n",
       "      <td>21841</td>\n",
       "      <td>22191</td>\n",
       "      <td>22713</td>\n",
       "    </tr>\n",
       "    <tr>\n",
       "      <th>20</th>\n",
       "      <td>Nonfamily households</td>\n",
       "      <td>West Virginia</td>\n",
       "      <td>1716</td>\n",
       "      <td>1490</td>\n",
       "      <td>1190</td>\n",
       "      <td>1021</td>\n",
       "      <td>1067</td>\n",
       "    </tr>\n",
       "    <tr>\n",
       "      <th>21</th>\n",
       "      <td>No children under 18 years:</td>\n",
       "      <td>West Virginia</td>\n",
       "      <td>462567</td>\n",
       "      <td>467349</td>\n",
       "      <td>456889</td>\n",
       "      <td>461134</td>\n",
       "      <td>460681</td>\n",
       "    </tr>\n",
       "    <tr>\n",
       "      <th>22</th>\n",
       "      <td>Married-couple family</td>\n",
       "      <td>West Virginia</td>\n",
       "      <td>214494</td>\n",
       "      <td>215037</td>\n",
       "      <td>208458</td>\n",
       "      <td>206424</td>\n",
       "      <td>204665</td>\n",
       "    </tr>\n",
       "    <tr>\n",
       "      <th>23</th>\n",
       "      <td>Other family:</td>\n",
       "      <td>West Virginia</td>\n",
       "      <td>35100</td>\n",
       "      <td>34278</td>\n",
       "      <td>33572</td>\n",
       "      <td>34611</td>\n",
       "      <td>34789</td>\n",
       "    </tr>\n",
       "    <tr>\n",
       "      <th>24</th>\n",
       "      <td>Male householder, no spouse present</td>\n",
       "      <td>West Virginia</td>\n",
       "      <td>12345</td>\n",
       "      <td>12090</td>\n",
       "      <td>12572</td>\n",
       "      <td>12826</td>\n",
       "      <td>12408</td>\n",
       "    </tr>\n",
       "    <tr>\n",
       "      <th>25</th>\n",
       "      <td>Female householder, no spouse present</td>\n",
       "      <td>West Virginia</td>\n",
       "      <td>22755</td>\n",
       "      <td>22188</td>\n",
       "      <td>21000</td>\n",
       "      <td>21785</td>\n",
       "      <td>22381</td>\n",
       "    </tr>\n",
       "    <tr>\n",
       "      <th>26</th>\n",
       "      <td>Nonfamily households</td>\n",
       "      <td>West Virginia</td>\n",
       "      <td>212973</td>\n",
       "      <td>218034</td>\n",
       "      <td>214859</td>\n",
       "      <td>220099</td>\n",
       "      <td>221227</td>\n",
       "    </tr>\n",
       "    <tr>\n",
       "      <th>27</th>\n",
       "      <td>Total:</td>\n",
       "      <td>Barbour County</td>\n",
       "      <td>6324</td>\n",
       "      <td>6484</td>\n",
       "      <td>5813</td>\n",
       "      <td>5789</td>\n",
       "      <td>5871</td>\n",
       "    </tr>\n",
       "    <tr>\n",
       "      <th>28</th>\n",
       "      <td>Household received Food Stamps/SNAP in the pas...</td>\n",
       "      <td>Barbour County</td>\n",
       "      <td>1062</td>\n",
       "      <td>1114</td>\n",
       "      <td>892</td>\n",
       "      <td>921</td>\n",
       "      <td>979</td>\n",
       "    </tr>\n",
       "    <tr>\n",
       "      <th>29</th>\n",
       "      <td>SNAP children under 18</td>\n",
       "      <td>Barbour County</td>\n",
       "      <td>453</td>\n",
       "      <td>437</td>\n",
       "      <td>418</td>\n",
       "      <td>455</td>\n",
       "      <td>506</td>\n",
       "    </tr>\n",
       "    <tr>\n",
       "      <th>30</th>\n",
       "      <td>Married-couple family</td>\n",
       "      <td>Barbour County</td>\n",
       "      <td>192</td>\n",
       "      <td>170</td>\n",
       "      <td>165</td>\n",
       "      <td>181</td>\n",
       "      <td>165</td>\n",
       "    </tr>\n",
       "    <tr>\n",
       "      <th>31</th>\n",
       "      <td>Other family:</td>\n",
       "      <td>Barbour County</td>\n",
       "      <td>223</td>\n",
       "      <td>231</td>\n",
       "      <td>238</td>\n",
       "      <td>274</td>\n",
       "      <td>341</td>\n",
       "    </tr>\n",
       "    <tr>\n",
       "      <th>32</th>\n",
       "      <td>Male householder, no spouse present</td>\n",
       "      <td>Barbour County</td>\n",
       "      <td>17</td>\n",
       "      <td>30</td>\n",
       "      <td>0</td>\n",
       "      <td>21</td>\n",
       "      <td>29</td>\n",
       "    </tr>\n",
       "    <tr>\n",
       "      <th>33</th>\n",
       "      <td>Female householder, no spouse present</td>\n",
       "      <td>Barbour County</td>\n",
       "      <td>206</td>\n",
       "      <td>201</td>\n",
       "      <td>238</td>\n",
       "      <td>253</td>\n",
       "      <td>312</td>\n",
       "    </tr>\n",
       "    <tr>\n",
       "      <th>34</th>\n",
       "      <td>Nonfamily households</td>\n",
       "      <td>Barbour County</td>\n",
       "      <td>38</td>\n",
       "      <td>36</td>\n",
       "      <td>15</td>\n",
       "      <td>0</td>\n",
       "      <td>0</td>\n",
       "    </tr>\n",
       "    <tr>\n",
       "      <th>35</th>\n",
       "      <td>No children under 18 years:</td>\n",
       "      <td>Barbour County</td>\n",
       "      <td>609</td>\n",
       "      <td>677</td>\n",
       "      <td>474</td>\n",
       "      <td>466</td>\n",
       "      <td>473</td>\n",
       "    </tr>\n",
       "    <tr>\n",
       "      <th>36</th>\n",
       "      <td>Married-couple family</td>\n",
       "      <td>Barbour County</td>\n",
       "      <td>244</td>\n",
       "      <td>254</td>\n",
       "      <td>151</td>\n",
       "      <td>105</td>\n",
       "      <td>134</td>\n",
       "    </tr>\n",
       "    <tr>\n",
       "      <th>37</th>\n",
       "      <td>Other family:</td>\n",
       "      <td>Barbour County</td>\n",
       "      <td>76</td>\n",
       "      <td>120</td>\n",
       "      <td>62</td>\n",
       "      <td>51</td>\n",
       "      <td>61</td>\n",
       "    </tr>\n",
       "    <tr>\n",
       "      <th>38</th>\n",
       "      <td>Male householder, no spouse present</td>\n",
       "      <td>Barbour County</td>\n",
       "      <td>5</td>\n",
       "      <td>20</td>\n",
       "      <td>11</td>\n",
       "      <td>12</td>\n",
       "      <td>17</td>\n",
       "    </tr>\n",
       "    <tr>\n",
       "      <th>39</th>\n",
       "      <td>Female householder, no spouse present</td>\n",
       "      <td>Barbour County</td>\n",
       "      <td>71</td>\n",
       "      <td>100</td>\n",
       "      <td>51</td>\n",
       "      <td>39</td>\n",
       "      <td>44</td>\n",
       "    </tr>\n",
       "    <tr>\n",
       "      <th>40</th>\n",
       "      <td>Nonfamily households</td>\n",
       "      <td>Barbour County</td>\n",
       "      <td>289</td>\n",
       "      <td>303</td>\n",
       "      <td>261</td>\n",
       "      <td>310</td>\n",
       "      <td>278</td>\n",
       "    </tr>\n",
       "    <tr>\n",
       "      <th>41</th>\n",
       "      <td>Household did not receive Food Stamps/SNAP in ...</td>\n",
       "      <td>Barbour County</td>\n",
       "      <td>5262</td>\n",
       "      <td>5370</td>\n",
       "      <td>4921</td>\n",
       "      <td>4868</td>\n",
       "      <td>4892</td>\n",
       "    </tr>\n",
       "    <tr>\n",
       "      <th>42</th>\n",
       "      <td>With children under 18 years:</td>\n",
       "      <td>Barbour County</td>\n",
       "      <td>1096</td>\n",
       "      <td>1072</td>\n",
       "      <td>1061</td>\n",
       "      <td>1051</td>\n",
       "      <td>1133</td>\n",
       "    </tr>\n",
       "    <tr>\n",
       "      <th>43</th>\n",
       "      <td>Married-couple family</td>\n",
       "      <td>Barbour County</td>\n",
       "      <td>851</td>\n",
       "      <td>852</td>\n",
       "      <td>788</td>\n",
       "      <td>791</td>\n",
       "      <td>762</td>\n",
       "    </tr>\n",
       "    <tr>\n",
       "      <th>44</th>\n",
       "      <td>Other family:</td>\n",
       "      <td>Barbour County</td>\n",
       "      <td>231</td>\n",
       "      <td>205</td>\n",
       "      <td>260</td>\n",
       "      <td>247</td>\n",
       "      <td>361</td>\n",
       "    </tr>\n",
       "    <tr>\n",
       "      <th>45</th>\n",
       "      <td>Male householder, no spouse present</td>\n",
       "      <td>Barbour County</td>\n",
       "      <td>150</td>\n",
       "      <td>98</td>\n",
       "      <td>124</td>\n",
       "      <td>94</td>\n",
       "      <td>103</td>\n",
       "    </tr>\n",
       "    <tr>\n",
       "      <th>46</th>\n",
       "      <td>Female householder, no spouse present</td>\n",
       "      <td>Barbour County</td>\n",
       "      <td>81</td>\n",
       "      <td>107</td>\n",
       "      <td>136</td>\n",
       "      <td>153</td>\n",
       "      <td>258</td>\n",
       "    </tr>\n",
       "    <tr>\n",
       "      <th>47</th>\n",
       "      <td>Nonfamily households</td>\n",
       "      <td>Barbour County</td>\n",
       "      <td>14</td>\n",
       "      <td>15</td>\n",
       "      <td>13</td>\n",
       "      <td>13</td>\n",
       "      <td>10</td>\n",
       "    </tr>\n",
       "    <tr>\n",
       "      <th>48</th>\n",
       "      <td>No children under 18 years:</td>\n",
       "      <td>Barbour County</td>\n",
       "      <td>4166</td>\n",
       "      <td>4298</td>\n",
       "      <td>3860</td>\n",
       "      <td>3817</td>\n",
       "      <td>3759</td>\n",
       "    </tr>\n",
       "    <tr>\n",
       "      <th>49</th>\n",
       "      <td>Married-couple family</td>\n",
       "      <td>Barbour County</td>\n",
       "      <td>1794</td>\n",
       "      <td>1698</td>\n",
       "      <td>1659</td>\n",
       "      <td>1657</td>\n",
       "      <td>1696</td>\n",
       "    </tr>\n",
       "  </tbody>\n",
       "</table>\n",
       "</div>"
      ],
      "text/plain": [
       "                                     Label (Grouping)          County    2019  \\\n",
       "0                                              Total:   West Virginia  732585   \n",
       "1   Household received Food Stamps/SNAP in the pas...   West Virginia  123277   \n",
       "2                              SNAP children under 18   West Virginia   54661   \n",
       "3                               Married-couple family   West Virginia   20399   \n",
       "4                                       Other family:   West Virginia   33251   \n",
       "5                 Male householder, no spouse present   West Virginia    7170   \n",
       "6               Female householder, no spouse present   West Virginia   26081   \n",
       "7                                Nonfamily households   West Virginia    1011   \n",
       "8                         No children under 18 years:   West Virginia   68616   \n",
       "9                               Married-couple family   West Virginia   13532   \n",
       "10                                      Other family:   West Virginia   12055   \n",
       "11                Male householder, no spouse present   West Virginia    3447   \n",
       "12              Female householder, no spouse present   West Virginia    8608   \n",
       "13                               Nonfamily households   West Virginia   43029   \n",
       "14  Household did not receive Food Stamps/SNAP in ...   West Virginia  609308   \n",
       "15                      With children under 18 years:   West Virginia  146741   \n",
       "16                              Married-couple family   West Virginia  107599   \n",
       "17                                      Other family:   West Virginia   37426   \n",
       "18                Male householder, no spouse present   West Virginia   13290   \n",
       "19              Female householder, no spouse present   West Virginia   24136   \n",
       "20                               Nonfamily households   West Virginia    1716   \n",
       "21                        No children under 18 years:   West Virginia  462567   \n",
       "22                              Married-couple family   West Virginia  214494   \n",
       "23                                      Other family:   West Virginia   35100   \n",
       "24                Male householder, no spouse present   West Virginia   12345   \n",
       "25              Female householder, no spouse present   West Virginia   22755   \n",
       "26                               Nonfamily households   West Virginia  212973   \n",
       "27                                             Total:  Barbour County    6324   \n",
       "28  Household received Food Stamps/SNAP in the pas...  Barbour County    1062   \n",
       "29                             SNAP children under 18  Barbour County     453   \n",
       "30                              Married-couple family  Barbour County     192   \n",
       "31                                      Other family:  Barbour County     223   \n",
       "32                Male householder, no spouse present  Barbour County      17   \n",
       "33              Female householder, no spouse present  Barbour County     206   \n",
       "34                               Nonfamily households  Barbour County      38   \n",
       "35                        No children under 18 years:  Barbour County     609   \n",
       "36                              Married-couple family  Barbour County     244   \n",
       "37                                      Other family:  Barbour County      76   \n",
       "38                Male householder, no spouse present  Barbour County       5   \n",
       "39              Female householder, no spouse present  Barbour County      71   \n",
       "40                               Nonfamily households  Barbour County     289   \n",
       "41  Household did not receive Food Stamps/SNAP in ...  Barbour County    5262   \n",
       "42                      With children under 18 years:  Barbour County    1096   \n",
       "43                              Married-couple family  Barbour County     851   \n",
       "44                                      Other family:  Barbour County     231   \n",
       "45                Male householder, no spouse present  Barbour County     150   \n",
       "46              Female householder, no spouse present  Barbour County      81   \n",
       "47                               Nonfamily households  Barbour County      14   \n",
       "48                        No children under 18 years:  Barbour County    4166   \n",
       "49                              Married-couple family  Barbour County    1794   \n",
       "\n",
       "      2020    2021    2022    2023  \n",
       "0   734235  711352  716040  721448  \n",
       "1   121292  116700  119104  123756  \n",
       "2    53390   50043   50652   52595  \n",
       "3    20175   19193   19772   20830  \n",
       "4    32161   29975   29979   31062  \n",
       "5     6955    6035    5980    6624  \n",
       "6    25206   23940   23999   24438  \n",
       "7     1054     875     901     703  \n",
       "8    67902   66657   68452   71161  \n",
       "9    12849   12020   12114   12704  \n",
       "10   11787   11421   12023   12368  \n",
       "11    3479    3301    3493    3960  \n",
       "12    8308    8120    8530    8408  \n",
       "13   43266   43216   44315   46089  \n",
       "14  612943  594652  596936  597692  \n",
       "15  145594  137763  135802  137011  \n",
       "16  107619  102490  100340  100591  \n",
       "17   36485   34083   34441   35353  \n",
       "18   12853   12242   12250   12640  \n",
       "19   23632   21841   22191   22713  \n",
       "20    1490    1190    1021    1067  \n",
       "21  467349  456889  461134  460681  \n",
       "22  215037  208458  206424  204665  \n",
       "23   34278   33572   34611   34789  \n",
       "24   12090   12572   12826   12408  \n",
       "25   22188   21000   21785   22381  \n",
       "26  218034  214859  220099  221227  \n",
       "27    6484    5813    5789    5871  \n",
       "28    1114     892     921     979  \n",
       "29     437     418     455     506  \n",
       "30     170     165     181     165  \n",
       "31     231     238     274     341  \n",
       "32      30       0      21      29  \n",
       "33     201     238     253     312  \n",
       "34      36      15       0       0  \n",
       "35     677     474     466     473  \n",
       "36     254     151     105     134  \n",
       "37     120      62      51      61  \n",
       "38      20      11      12      17  \n",
       "39     100      51      39      44  \n",
       "40     303     261     310     278  \n",
       "41    5370    4921    4868    4892  \n",
       "42    1072    1061    1051    1133  \n",
       "43     852     788     791     762  \n",
       "44     205     260     247     361  \n",
       "45      98     124      94     103  \n",
       "46     107     136     153     258  \n",
       "47      15      13      13      10  \n",
       "48    4298    3860    3817    3759  \n",
       "49    1698    1659    1657    1696  "
      ]
     },
     "execution_count": 57,
     "metadata": {},
     "output_type": "execute_result"
    }
   ],
   "source": [
    "snapkids_df.head(50)"
   ]
  },
  {
   "cell_type": "code",
   "execution_count": 59,
   "id": "b33662db-f2ea-4181-8ad4-fba3a4a2d32e",
   "metadata": {},
   "outputs": [
    {
     "data": {
      "text/html": [
       "<div>\n",
       "<style scoped>\n",
       "    .dataframe tbody tr th:only-of-type {\n",
       "        vertical-align: middle;\n",
       "    }\n",
       "\n",
       "    .dataframe tbody tr th {\n",
       "        vertical-align: top;\n",
       "    }\n",
       "\n",
       "    .dataframe thead th {\n",
       "        text-align: right;\n",
       "    }\n",
       "</style>\n",
       "<table border=\"1\" class=\"dataframe\">\n",
       "  <thead>\n",
       "    <tr style=\"text-align: right;\">\n",
       "      <th></th>\n",
       "      <th>Label (Grouping)</th>\n",
       "      <th>County</th>\n",
       "      <th>2019</th>\n",
       "      <th>2020</th>\n",
       "      <th>2021</th>\n",
       "      <th>2022</th>\n",
       "      <th>2023</th>\n",
       "    </tr>\n",
       "  </thead>\n",
       "  <tbody>\n",
       "    <tr>\n",
       "      <th>2</th>\n",
       "      <td>SNAP children under 18</td>\n",
       "      <td>West Virginia</td>\n",
       "      <td>54661</td>\n",
       "      <td>53390</td>\n",
       "      <td>50043</td>\n",
       "      <td>50652</td>\n",
       "      <td>52595</td>\n",
       "    </tr>\n",
       "  </tbody>\n",
       "</table>\n",
       "</div>"
      ],
      "text/plain": [
       "         Label (Grouping)         County   2019   2020   2021   2022   2023\n",
       "2  SNAP children under 18  West Virginia  54661  53390  50043  50652  52595"
      ]
     },
     "execution_count": 59,
     "metadata": {},
     "output_type": "execute_result"
    }
   ],
   "source": [
    "row"
   ]
  },
  {
   "cell_type": "code",
   "execution_count": 118,
   "id": "58023737-3db7-4a3b-bd03-bf6ed2e8b5f4",
   "metadata": {},
   "outputs": [],
   "source": [
    "rowkids = row"
   ]
  },
  {
   "cell_type": "code",
   "execution_count": 120,
   "id": "61af0c65-c652-440e-a66e-a52f285ecc8f",
   "metadata": {},
   "outputs": [
    {
     "data": {
      "text/html": [
       "<div>\n",
       "<style scoped>\n",
       "    .dataframe tbody tr th:only-of-type {\n",
       "        vertical-align: middle;\n",
       "    }\n",
       "\n",
       "    .dataframe tbody tr th {\n",
       "        vertical-align: top;\n",
       "    }\n",
       "\n",
       "    .dataframe thead th {\n",
       "        text-align: right;\n",
       "    }\n",
       "</style>\n",
       "<table border=\"1\" class=\"dataframe\">\n",
       "  <thead>\n",
       "    <tr style=\"text-align: right;\">\n",
       "      <th></th>\n",
       "      <th>Label (Grouping)</th>\n",
       "      <th>County</th>\n",
       "      <th>2019</th>\n",
       "      <th>2020</th>\n",
       "      <th>2021</th>\n",
       "      <th>2022</th>\n",
       "      <th>2023</th>\n",
       "    </tr>\n",
       "  </thead>\n",
       "  <tbody>\n",
       "    <tr>\n",
       "      <th>2</th>\n",
       "      <td>SNAP children under 18</td>\n",
       "      <td>West Virginia</td>\n",
       "      <td>54661</td>\n",
       "      <td>53390</td>\n",
       "      <td>50043</td>\n",
       "      <td>50652</td>\n",
       "      <td>52595</td>\n",
       "    </tr>\n",
       "  </tbody>\n",
       "</table>\n",
       "</div>"
      ],
      "text/plain": [
       "         Label (Grouping)         County   2019   2020   2021   2022   2023\n",
       "2  SNAP children under 18  West Virginia  54661  53390  50043  50652  52595"
      ]
     },
     "execution_count": 120,
     "metadata": {},
     "output_type": "execute_result"
    }
   ],
   "source": [
    "rowkids"
   ]
  },
  {
   "cell_type": "code",
   "execution_count": 122,
   "id": "299231af-cd89-4967-b115-d54b6303f0d2",
   "metadata": {},
   "outputs": [],
   "source": [
    "rowkids.to_csv('rowkids.csv', index=False)"
   ]
  },
  {
   "cell_type": "code",
   "execution_count": null,
   "id": "61d6ec23-6d87-4b2d-ba76-8bd747de0546",
   "metadata": {},
   "outputs": [],
   "source": []
  }
 ],
 "metadata": {
  "kernelspec": {
   "display_name": "Python [conda env:geospatial]",
   "language": "python",
   "name": "conda-env-geospatial-py"
  },
  "language_info": {
   "codemirror_mode": {
    "name": "ipython",
    "version": 3
   },
   "file_extension": ".py",
   "mimetype": "text/x-python",
   "name": "python",
   "nbconvert_exporter": "python",
   "pygments_lexer": "ipython3",
   "version": "3.12.7"
  }
 },
 "nbformat": 4,
 "nbformat_minor": 5
}
